{
 "cells": [
  {
   "cell_type": "code",
   "execution_count": null,
   "id": "df5ece5c",
   "metadata": {},
   "outputs": [],
   "source": [
    "first = 0\n",
    "second = 1\n",
    "sum = 0\n",
    "count = 50\n",
    "print(first)\n",
    "print(second)\n",
    "while (count>=1):\n",
    "    sum = first+second\n",
    "    print (sum)\n",
    "    first = second\n",
    "    second = sum\n",
    "    count-=1"
   ]
  },
  {
   "cell_type": "code",
   "execution_count": null,
   "id": "47d97821",
   "metadata": {},
   "outputs": [],
   "source": []
  },
  {
   "cell_type": "code",
   "execution_count": null,
   "id": "9f3ef416",
   "metadata": {},
   "outputs": [],
   "source": []
  },
  {
   "cell_type": "code",
   "execution_count": null,
   "id": "9e470f0e",
   "metadata": {},
   "outputs": [],
   "source": []
  }
 ],
 "metadata": {
  "kernelspec": {
   "display_name": "Python 3 (ipykernel)",
   "language": "python",
   "name": "python3"
  },
  "language_info": {
   "codemirror_mode": {
    "name": "ipython",
    "version": 3
   },
   "file_extension": ".py",
   "mimetype": "text/x-python",
   "name": "python",
   "nbconvert_exporter": "python",
   "pygments_lexer": "ipython3",
   "version": "3.10.0"
  }
 },
 "nbformat": 4,
 "nbformat_minor": 5
}
